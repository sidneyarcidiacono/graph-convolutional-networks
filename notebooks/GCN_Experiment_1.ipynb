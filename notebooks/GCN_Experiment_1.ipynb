{
  "nbformat": 4,
  "nbformat_minor": 0,
  "metadata": {
    "colab": {
      "name": "GCN_Experiment_1.ipynb",
      "provenance": [],
      "collapsed_sections": []
    },
    "kernelspec": {
      "name": "python3",
      "display_name": "Python 3"
    },
    "language_info": {
      "name": "python"
    }
  },
  "cells": [
    {
      "cell_type": "code",
      "metadata": {
        "id": "4BfJOFgShI00"
      },
      "source": [
        "import networkx as nx\n",
        "import numpy as np\n",
        "import matplotlib.pyplot as plt\n",
        "from scipy.linalg import fractional_matrix_power "
      ],
      "execution_count": null,
      "outputs": []
    },
    {
      "cell_type": "code",
      "metadata": {
        "id": "kMV7J5BJhMY8"
      },
      "source": [
        "import warnings\n",
        "warnings.filterwarnings(\"ignore\", category=UserWarning)"
      ],
      "execution_count": null,
      "outputs": []
    },
    {
      "cell_type": "code",
      "metadata": {
        "colab": {
          "base_uri": "https://localhost:8080/",
          "height": 458
        },
        "id": "Kw9VYCWghdPE",
        "outputId": "9c83a8c3-6a6a-462c-c01d-b300f2afaef6"
      },
      "source": [
        "# Initialize the graph\n",
        "G = nx.Graph(name='G')\n",
        "\n",
        "# Create nodes.\n",
        "# In this tutorial, the graph consists of 6 nodes.\n",
        "# Each node is assigned node feature which corresponds to the node name.\n",
        "for i in range(6):\n",
        "  G.add_node(i, name=i)\n",
        "  \n",
        "# Define the edges and add the edges to the graph\n",
        "edges = [(0, 1), (0, 2), (1, 2), (0, 3), (3, 4), (3, 5), (4, 5)]\n",
        "G.add_edges_from(edges)\n",
        "\n",
        "# See graph info\n",
        "print('Graph Info:\\n', nx.info(G))\n",
        "\n",
        "# Inspect the features:\n",
        "print('Graph Nodes:\\n', G.nodes.data())\n",
        "\n",
        "# Plot the graph\n",
        "nx.draw(G, with_labels=True, font_weight='bold')\n",
        "plt.show()"
      ],
      "execution_count": null,
      "outputs": [
        {
          "output_type": "stream",
          "text": [
            "Graph Info:\n",
            " Name: G\n",
            "Type: Graph\n",
            "Number of nodes: 6\n",
            "Number of edges: 7\n",
            "Average degree:   2.3333\n",
            "Graph Nodes:\n",
            " [(0, {'name': 0}), (1, {'name': 1}), (2, {'name': 2}), (3, {'name': 3}), (4, {'name': 4}), (5, {'name': 5})]\n"
          ],
          "name": "stdout"
        },
        {
          "output_type": "display_data",
          "data": {
            "image/png": "[encoded data removed]",
            "text/plain": [
              "<Figure size 432x288 with 1 Axes>"
            ]
          },
          "metadata": {
            "tags": []
          }
        }
      ]
    },
    {
      "cell_type": "code",
      "metadata": {
        "colab": {
          "base_uri": "https://localhost:8080/"
        },
        "id": "SLmcnsSXiZkA",
        "outputId": "1a67f691-b731-4ca6-a74d-4ab136fff260"
      },
      "source": [
        "# Get the adjacency matrix (A) and Node Features Matrix (X) as a numpy array\n",
        "A = np.array(nx.attr_matrix(G, node_attr='name')[0])\n",
        "X = np.array(nx.attr_matrix(G, node_attr='name')[1])\n",
        "X = np.expand_dims(X, axis=1)\n",
        "\n",
        "print('Shape of A:\\n', A.shape)\n",
        "print('Shape of X:\\n', X.shape)\n",
        "print('\\nAdjacency Matrix (A):\\n', A)\n",
        "print('\\nNode Feature Matrix (X):\\n', X)"
      ],
      "execution_count": null,
      "outputs": [
        {
          "output_type": "stream",
          "text": [
            "Shape of A:\n",
            " (6, 6)\n",
            "Shape of X:\n",
            " (6, 1)\n",
            "\n",
            "Adjacency Matrix (A):\n",
            " [[0. 1. 1. 1. 0. 0.]\n",
            " [1. 0. 1. 0. 0. 0.]\n",
            " [1. 1. 0. 0. 0. 0.]\n",
            " [1. 0. 0. 0. 1. 1.]\n",
            " [0. 0. 0. 1. 0. 1.]\n",
            " [0. 0. 0. 1. 1. 0.]]\n",
            "\n",
            "Node Feature Matrix (X):\n",
            " [[0]\n",
            " [1]\n",
            " [2]\n",
            " [3]\n",
            " [4]\n",
            " [5]]\n"
          ],
          "name": "stdout"
        }
      ]
    },
    {
      "cell_type": "code",
      "metadata": {
        "colab": {
          "base_uri": "https://localhost:8080/"
        },
        "id": "GI3eyvFKjFzQ",
        "outputId": "91f1269e-a67b-4e10-8024-89e3259281f1"
      },
      "source": [
        "# To investigate how inserting A into the forward propagation equation changes things,\n",
        "# we are going to perform the dot product of A and X.\n",
        "# Dot product Adjacency Matrix (A) and Node Feature Matrix (X)\n",
        "AX = np.dot(A, X)\n",
        "print('Dot product of A and X (AX):\\n', AX) "
      ],
      "execution_count": null,
      "outputs": [
        {
          "output_type": "stream",
          "text": [
            "Dot product of A and X (AX):\n",
            " [[6.]\n",
            " [2.]\n",
            " [1.]\n",
            " [9.]\n",
            " [8.]\n",
            " [7.]]\n"
          ],
          "name": "stdout"
        }
      ]
    },
    {
      "cell_type": "markdown",
      "metadata": {
        "id": "m503K59wkRtE"
      },
      "source": [
        "We can see from the dot product *AX* the representation of the sum of neighboring node features. However, we can also identify a problem - while we can now represent and account for the adjacent node features, we aren't taking into account the features of the node itself. \n",
        "\n",
        "We will add self-loops (connections back to the node) in order to solve this problem."
      ]
    },
    {
      "cell_type": "code",
      "metadata": {
        "colab": {
          "base_uri": "https://localhost:8080/"
        },
        "id": "GM-Df09MkH8E",
        "outputId": "ee17d249-9059-4611-8419-cbe77346a28c"
      },
      "source": [
        "# Add self-loops\n",
        "G_self_loops = G.copy()\n",
        "\n",
        "self_loops = []\n",
        "for i in range(G.number_of_nodes()):\n",
        "  self_loops.append((i, i))\n",
        "\n",
        "G_self_loops.add_edges_from(self_loops)\n",
        "\n",
        "# Check the edges of G_self_loops after adding the self loops\n",
        "print('Edges of G with self loops:\\n', G_self_loops.edges)\n",
        "\n",
        "# Get the Adjacency Matrix (A) of self loops graph (we will keep our original X, as it will be the same)\n",
        "A_hat = np.array(nx.attr_matrix(G_self_loops, node_attr='name')[0])\n",
        "print('Adjacency Matrix of added self-loops G (A_hat):\\n', A_hat)\n",
        "\n",
        "#Calculate the dot product of A_hat and X (AX)\n",
        "AX = np.dot(A_hat, X)\n",
        "print('AX:\\n', AX)"
      ],
      "execution_count": null,
      "outputs": [
        {
          "output_type": "stream",
          "text": [
            "Edges of G with self loops:\n",
            " [(0, 1), (0, 2), (0, 3), (0, 0), (1, 2), (1, 1), (2, 2), (3, 4), (3, 5), (3, 3), (4, 5), (4, 4), (5, 5)]\n",
            "Adjacency Matrix of added self-loops G (A_hat):\n",
            " [[1. 1. 1. 1. 0. 0.]\n",
            " [1. 1. 1. 0. 0. 0.]\n",
            " [1. 1. 1. 0. 0. 0.]\n",
            " [1. 0. 0. 1. 1. 1.]\n",
            " [0. 0. 0. 1. 1. 1.]\n",
            " [0. 0. 0. 1. 1. 1.]]\n",
            "AX:\n",
            " [[ 6.]\n",
            " [ 3.]\n",
            " [ 3.]\n",
            " [12.]\n",
            " [12.]\n",
            " [12.]]\n"
          ],
          "name": "stdout"
        }
      ]
    },
    {
      "cell_type": "code",
      "metadata": {
        "colab": {
          "base_uri": "https://localhost:8080/"
        },
        "id": "aNt3O_KGqohA",
        "outputId": "2e1db59c-574e-4ee9-cb42-7c02cc4b3f03"
      },
      "source": [
        "# Get the Degree Matrix of the self loops graph\n",
        "Deg_Mat = G_self_loops.degree()\n",
        "print('Degree Matrix of self loops graph:\\n', Deg_Mat)\n",
        "\n",
        "# Convert the degree matrix into an N x N matrix where *N* is the number of nodes\n",
        "D = np.diag([deg for (n, deg) in list(Deg_Mat)])\n",
        "print('Degree Matrix for self loops graph as a numpy array:\\n', D)\n",
        "\n",
        "# Find the inverse of Degree Matrix (D)\n",
        "D_inv = np.linalg.inv(D)\n",
        "print('Inverse of D:\\n', D_inv)\n",
        "\n",
        "# Find dot product of D and AX for normalization\n",
        "DAX = np.dot(D_inv, AX)\n",
        "print('DAX:\\n', DAX)"
      ],
      "execution_count": null,
      "outputs": [
        {
          "output_type": "stream",
          "text": [
            "Degree Matrix of self loops graph:\n",
            " [(0, 5), (1, 4), (2, 4), (3, 5), (4, 4), (5, 4)]\n",
            "Degree Matrix for self loops graph as a numpy array:\n",
            " [[5 0 0 0 0 0]\n",
            " [0 4 0 0 0 0]\n",
            " [0 0 4 0 0 0]\n",
            " [0 0 0 5 0 0]\n",
            " [0 0 0 0 4 0]\n",
            " [0 0 0 0 0 4]]\n",
            "Inverse of D:\n",
            " [[0.2  0.   0.   0.   0.   0.  ]\n",
            " [0.   0.25 0.   0.   0.   0.  ]\n",
            " [0.   0.   0.25 0.   0.   0.  ]\n",
            " [0.   0.   0.   0.2  0.   0.  ]\n",
            " [0.   0.   0.   0.   0.25 0.  ]\n",
            " [0.   0.   0.   0.   0.   0.25]]\n",
            "DAX:\n",
            " [[1.2 ]\n",
            " [0.75]\n",
            " [0.75]\n",
            " [2.4 ]\n",
            " [3.  ]\n",
            " [3.  ]]\n"
          ],
          "name": "stdout"
        }
      ]
    },
    {
      "cell_type": "code",
      "metadata": {
        "colab": {
          "base_uri": "https://localhost:8080/"
        },
        "id": "qZYtQU1TnHls",
        "outputId": "a47e6dde-88ad-43d3-cfcb-7105f2f6596a"
      },
      "source": [
        "# Symmetric Normalization\n",
        "D_half_norm = fractional_matrix_power(D, -0.5)\n",
        "DADX = D_half_norm.dot(A_hat).dot(D_half_norm).dot(X)\n",
        "print('DADX:\\n', DADX)"
      ],
      "execution_count": null,
      "outputs": [
        {
          "output_type": "stream",
          "text": [
            "DADX:\n",
            " [[1.27082039]\n",
            " [0.75      ]\n",
            " [0.75      ]\n",
            " [2.61246118]\n",
            " [2.92082039]\n",
            " [2.92082039]]\n"
          ],
          "name": "stdout"
        }
      ]
    },
    {
      "cell_type": "markdown",
      "metadata": {
        "id": "XnWWDqSQsDF4"
      },
      "source": [
        "### 2 Layer GCN using ReLu as activation function\n",
        "\n",
        "We are initially going to set 4 neurons for the hidden layer. We're plotting the feature representation in two dimensions, so there will be two output neurons.\n",
        "\n",
        "To make it simpler, we're also going to rewrite the *renormalization trick* equation using numpy."
      ]
    },
    {
      "cell_type": "code",
      "metadata": {
        "colab": {
          "base_uri": "https://localhost:8080/"
        },
        "id": "ug5g-3NEsNJo",
        "outputId": "c83ea4dc-37b0-4f16-8471-c6f13bf40634"
      },
      "source": [
        "# Initialize the weights:\n",
        "np.random.seed(77777)\n",
        "n_h = 4  # number neurons in the hidden layer\n",
        "n_y = 2  # number neurons in the output layer\n",
        "W0 = np.random.randn(X.shape[1], n_h) * 0.01  # initialize our weights randomly for layer 0 (hidden layer)\n",
        "W1 = np.random.randn(n_h, n_y) * 0.01  # initialize our weights randomly for layer 1 (output)\n",
        "\n",
        "# Implement ReLu as activation function\n",
        "def relu(x):\n",
        "  return np.maximum(0, x)\n",
        "\n",
        "# Build GCN layer\n",
        "# In this function we use numpy to simplify (normalization)\n",
        "def gcn(A, H, W):\n",
        "  \"\"\"Build our Graph Convolutional Network layer.\"\"\"\n",
        "  I = np.identity(A.shape[0])\n",
        "  A_hat = A + I  # add self-loop to A\n",
        "  D = np.diag(np.sum(A_hat, axis=0))  # create degree matrix of A\n",
        "  D_half_norm = fractional_matrix_power(D, -0.5)  # calculate D to the power of -0.5\n",
        "  eq = D_half_norm.dot(A_hat).dot(D_half_norm).dot(H).dot(W)\n",
        "  return relu(eq)\n",
        "\n",
        "# Do forward propagation\n",
        "H1 = gcn(A, X, W0)\n",
        "H2 = gcn(A, H1, W1)\n",
        "\n",
        "print('Features representation from GCN output:\\n', H2)"
      ],
      "execution_count": null,
      "outputs": [
        {
          "output_type": "stream",
          "text": [
            "Features representation from GCN output:\n",
            " [[0.00027758 0.        ]\n",
            " [0.00017298 0.        ]\n",
            " [0.00017298 0.        ]\n",
            " [0.00053017 0.        ]\n",
            " [0.00054097 0.        ]\n",
            " [0.00054097 0.        ]]\n"
          ],
          "name": "stdout"
        }
      ]
    },
    {
      "cell_type": "markdown",
      "metadata": {
        "id": "Id-Al6Rft2xA"
      },
      "source": [
        "Above, we've just built a basic feed-forward Graph Convolutional Network. GCN's are able to learn features even without training! Let's plot the feature representations after passing through our 2-layer GCN."
      ]
    },
    {
      "cell_type": "code",
      "metadata": {
        "colab": {
          "base_uri": "https://localhost:8080/",
          "height": 295
        },
        "id": "3xHz4FEXtvqU",
        "outputId": "2d389c20-8fbe-4120-b96e-fc3d67bec229"
      },
      "source": [
        "def plot_features(H2):\n",
        "  \"\"\"Visualize our features representation.\"\"\"\n",
        "  # Plot the features representation\n",
        "  x = H2[:,0]\n",
        "  y = H2[:,1]\n",
        "\n",
        "  size = 1000\n",
        "\n",
        "  plt.scatter(x, y, size)\n",
        "  plt.xlim([np.min(x)*0.9, np.max(x)*1.1])\n",
        "  plt.ylim([-1, 1])\n",
        "  plt.xlabel('Feature Representation Dimension 0')\n",
        "  plt.ylabel('Feature Representation Dimension 1')\n",
        "  plt.title('Feature Representations')\n",
        "\n",
        "  for i, row in enumerate(H2):\n",
        "    str = \"{}\".format(i)\n",
        "    plt.annotate(str, (row[0], row[1]), fontsize=18, fontweight='bold')\n",
        "\n",
        "  plt.show()\n",
        "\n",
        "plot_features(H2)"
      ],
      "execution_count": null,
      "outputs": [
        {
          "output_type": "display_data",
          "data": {
            "image/png": "[encoded data removed]",
            "text/plain": [
              "<Figure size 432x288 with 1 Axes>"
            ]
          },
          "metadata": {
            "tags": [],
            "needs_background": "light"
          }
        }
      ]
    },
    {
      "cell_type": "code",
      "metadata": {
        "id": "tlqGZwgwuu94"
      },
      "source": [
        ""
      ],
      "execution_count": null,
      "outputs": []
    }
  ]
}